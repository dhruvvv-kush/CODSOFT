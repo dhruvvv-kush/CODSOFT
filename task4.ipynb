{
  "nbformat": 4,
  "nbformat_minor": 0,
  "metadata": {
    "colab": {
      "provenance": [],
      "authorship_tag": "ABX9TyN1gZiXI7Mn+uQVk+ObNg76",
      "include_colab_link": true
    },
    "kernelspec": {
      "name": "python3",
      "display_name": "Python 3"
    },
    "language_info": {
      "name": "python"
    }
  },
  "cells": [
    {
      "cell_type": "markdown",
      "metadata": {
        "id": "view-in-github",
        "colab_type": "text"
      },
      "source": [
        "<a href=\"https://colab.research.google.com/github/dhruvvv-kush/CODSOFT/blob/main/task4.ipynb\" target=\"_parent\"><img src=\"https://colab.research.google.com/assets/colab-badge.svg\" alt=\"Open In Colab\"/></a>"
      ]
    },
    {
      "cell_type": "code",
      "source": [
        "import random\n",
        "\n",
        "def get_computer_choice():\n",
        "    return random.choice(['rock', 'paper', 'scissors'])\n",
        "\n",
        "def get_user_choice():\n",
        "    choice = input('Choose rock, paper, or scissors: ').lower()\n",
        "    while choice not in ['rock', 'paper', 'scissors']:\n",
        "        print('Invalid choice. Please try again.')\n",
        "        choice = input('Choose rock, paper, or scissors: ').lower()\n",
        "    return choice\n",
        "\n",
        "def determine_winner(user_choice, computer_choice):\n",
        "    if user_choice == computer_choice:\n",
        "        return \"It's a tie!\"\n",
        "    if (user_choice == 'rock' and computer_choice == 'scissors') or \\\n",
        "       (user_choice == 'scissors' and computer_choice == 'paper') or \\\n",
        "       (user_choice == 'paper' and computer_choice == 'rock'):\n",
        "        return 'You win!'\n",
        "    else:\n",
        "        return 'You lose!'\n",
        "\n",
        "def play_game():\n",
        "    user_score = 0\n",
        "    computer_score = 0\n",
        "    while True:\n",
        "        user_choice = get_user_choice()\n",
        "        computer_choice = get_computer_choice()\n",
        "        print(f'You chose: {user_choice}, Computer chose: {computer_choice}')\n",
        "        result = determine_winner(user_choice, computer_choice)\n",
        "        print(result)\n",
        "        if 'win' in result:\n",
        "            user_score += 1\n",
        "        elif 'lose' in result:\n",
        "            computer_score += 1\n",
        "        print(f'Scores -> You: {user_score}, Computer: {computer_score}')\n",
        "        play_again = input('Do you want to play again? (yes/no): ').lower()\n",
        "        if play_again != 'yes':\n",
        "            print('Thanks for playing!')\n",
        "            break\n",
        "\n",
        "if __name__ == '__main__':\n",
        "    play_game()\n"
      ],
      "metadata": {
        "colab": {
          "base_uri": "https://localhost:8080/"
        },
        "id": "SyjEorw9AbCG",
        "outputId": "d3bdff53-84b2-4930-a143-d76f1ff95e06"
      },
      "execution_count": null,
      "outputs": [
        {
          "output_type": "stream",
          "name": "stdout",
          "text": [
            "Choose rock, paper, or scissors: rock\n",
            "You chose: rock, Computer chose: rock\n",
            "It's a tie!\n",
            "Scores -> You: 0, Computer: 0\n",
            "Do you want to play again? (yes/no): yes\n",
            "Choose rock, paper, or scissors: paper\n",
            "You chose: paper, Computer chose: paper\n",
            "It's a tie!\n",
            "Scores -> You: 0, Computer: 0\n",
            "Do you want to play again? (yes/no): yes\n",
            "Choose rock, paper, or scissors: paper\n",
            "You chose: paper, Computer chose: scissors\n",
            "You lose!\n",
            "Scores -> You: 0, Computer: 1\n"
          ]
        }
      ]
    }
  ]
}