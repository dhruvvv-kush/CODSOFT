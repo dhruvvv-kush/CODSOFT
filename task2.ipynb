{
  "nbformat": 4,
  "nbformat_minor": 0,
  "metadata": {
    "colab": {
      "provenance": []
    },
    "kernelspec": {
      "name": "python3",
      "display_name": "Python 3"
    },
    "language_info": {
      "name": "python"
    }
  },
  "cells": [
    {
      "cell_type": "code",
      "execution_count": 1,
      "metadata": {
        "colab": {
          "base_uri": "https://localhost:8080/"
        },
        "id": "TCt0LR8j6FOl",
        "outputId": "5ec2def4-4f59-4993-e07a-140afac3503f"
      },
      "outputs": [
        {
          "output_type": "stream",
          "name": "stdout",
          "text": [
            "Simple Calculator\n",
            "Select operation:\n",
            "1. Addition (+)\n",
            "2. Subtraction (-)\n",
            "3. Multiplication (*)\n",
            "4. Division (/)\n",
            "Enter choice (1/2/3/4): 3\n",
            "Enter first number: 5\n",
            "Enter second number: 5\n",
            "Result: 5.0 * 5.0 = 25.0\n"
          ]
        }
      ],
      "source": [
        "def calculator():\n",
        "    print(\"Simple Calculator\")\n",
        "    print(\"Select operation:\")\n",
        "    print(\"1 To Perform - Addition (+)\")\n",
        "    print(\"2 To Perform - Subtraction (-)\")\n",
        "    print(\"3 To Perform - Multiplication (*)\")\n",
        "    print(\"4 To Perform - Division (/)\")\n",
        "\n",
        "    choice = input(\"Enter choice (1/2/3/4): \")\n",
        "\n",
        "    if choice in ['1', '2', '3', '4']:\n",
        "        try:\n",
        "            num1 = float(input(\"Enter first number: \"))\n",
        "            num2 = float(input(\"Enter second number: \"))\n",
        "\n",
        "            if choice == '1':\n",
        "                result = num1 + num2\n",
        "                print(f\"Result: {num1} + {num2} = {result}\")\n",
        "            elif choice == '2':\n",
        "                result = num1 - num2\n",
        "                print(f\"Result: {num1} - {num2} = {result}\")\n",
        "            elif choice == '3':\n",
        "                result = num1 * num2\n",
        "                print(f\"Result: {num1} * {num2} = {result}\")\n",
        "            elif choice == '4':\n",
        "                if num2 != 0:\n",
        "                    result = num1 / num2\n",
        "                    print(f\"Result: {num1} / {num2} = {result}\")\n",
        "                else:\n",
        "                    print(\"Error: Division by zero is not allowed.\")\n",
        "        except ValueError:\n",
        "            print(\"Error: Invalid input. Please enter numerical values.\")\n",
        "    else:\n",
        "        print(\"Invalid choice. Please select a valid operation.\")\n",
        "\n",
        "calculator()\n"
      ]
    }
  ]
}