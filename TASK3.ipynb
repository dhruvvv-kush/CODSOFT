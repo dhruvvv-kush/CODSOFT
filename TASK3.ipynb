{
  "nbformat": 4,
  "nbformat_minor": 0,
  "metadata": {
    "colab": {
      "provenance": [],
      "authorship_tag": "ABX9TyOxhjWBwE55me//Bd1doSfR",
      "include_colab_link": true
    },
    "kernelspec": {
      "name": "python3",
      "display_name": "Python 3"
    },
    "language_info": {
      "name": "python"
    }
  },
  "cells": [
    {
      "cell_type": "markdown",
      "metadata": {
        "id": "view-in-github",
        "colab_type": "text"
      },
      "source": [
        "<a href=\"https://colab.research.google.com/github/dhruvvv-kush/CODSOFT/blob/main/TASK3.ipynb\" target=\"_parent\"><img src=\"https://colab.research.google.com/assets/colab-badge.svg\" alt=\"Open In Colab\"/></a>"
      ]
    },
    {
      "cell_type": "code",
      "execution_count": 2,
      "metadata": {
        "colab": {
          "base_uri": "https://localhost:8080/"
        },
        "id": "hTEVTvZG9XxO",
        "outputId": "042ecfed-7bd7-426b-f7fa-5b5c9a05a5e4"
      },
      "outputs": [
        {
          "output_type": "stream",
          "name": "stdout",
          "text": [
            "Enter the desired password length: 5\n",
            "Include uppercase letters? (yes/no): yes\n",
            "Include numbers? (yes/no): no\n",
            "Include special characters? (yes/no): yes\n",
            "Generated Password: I:PKX\n"
          ]
        }
      ],
      "source": [
        "import random\n",
        "import string\n",
        "\n",
        "def generate_password(length: int, include_uppercase: bool = True, include_numbers: bool = True, include_special_character: bool = True) -> str:\n",
        "    if length < 1:\n",
        "        raise ValueError(\"Password length must be at least 1\")\n",
        "\n",
        "    characters = string.ascii_lowercase\n",
        "    if include_uppercase:\n",
        "        characters += string.ascii_uppercase\n",
        "    if include_numbers:\n",
        "        characters += string.digits\n",
        "    if include_special_character:\n",
        "        characters += string.punctuation\n",
        "\n",
        "    password = ''.join(random.choice(characters) for _ in range(length))\n",
        "    return password\n",
        "\n",
        "if __name__ == '__main__':\n",
        "    try:\n",
        "        length = int(input(\"Enter the desired password length: \"))\n",
        "        include_uppercase = input(\"Include uppercase letters? (yes/no): \").lower() == 'yes'\n",
        "        include_numbers = input(\"Include numbers? (yes/no): \").lower() == 'yes'\n",
        "        include_special_character = input(\"Include special characters? (yes/no): \").lower() == 'yes'\n",
        "\n",
        "        password = generate_password(length, include_uppercase, include_numbers, include_special_character)\n",
        "        print(f\"Generated Password: {password}\")\n",
        "    except ValueError as e:\n",
        "        print(e)"
      ]
    }
  ]
}